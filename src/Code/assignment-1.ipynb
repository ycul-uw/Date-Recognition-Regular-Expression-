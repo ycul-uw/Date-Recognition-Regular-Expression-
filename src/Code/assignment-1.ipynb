{
 "cells": [
  {
   "cell_type": "code",
   "execution_count": 1,
   "metadata": {},
   "outputs": [
    {
     "name": "stdout",
     "output_type": "stream",
     "text": [
      "Program ran. Results saved in output.txt.\n"
     ]
    }
   ],
   "source": [
    "import re\n",
    "\n",
    "def extract_dates(text):\n",
    "    date_re = [\n",
    "        # 1. Fixed Dates\n",
    "        r'\\b(?:Monday|Tuesday|Wednesday|Thursday|Friday|Saturday|Sunday)?,?(?:January|February|March|April|May|June|July|August|September|October|November|December|'\n",
    "        r'Jan|Feb|Mar|Apr|May|Jun|Jul|Aug|Sep|Sept|Oct|Nov|Dec)\\.? (?:0?[1-9]|[12][0-9]|3[01])(?:st|nd|rd|th)?,? (?:[1-9][0-9]{3})\\b',\n",
    "\n",
    "        r'\\b(?:Monday|Tuesday|Wednesday|Thursday|Friday|Saturday|Sunday),? (?:January|February|March|April|May|June|July|August|September|October|November|December|'\n",
    "        r'Jan|Feb|Mar|Apr|May|Jun|Jul|Aug|Sep|Sept|Oct|Nov|Dec)\\.? (?:0?[1-9]|[12][0-9]|3[01])(?:st|nd|rd|th)?,? (?:[1-9][0-9]{3})\\b',\n",
    "        \n",
    "        # MM/DD/YYYY\n",
    "        r'\\b\\d{1,2}/\\d{1,2}/(?:[1-9][0-9]{3})\\b',\n",
    "\n",
    "        # Only years greater than or equal to 1000\n",
    "        r'\\b(?:[1-9][0-9]{3})\\b',\n",
    "\n",
    "        # \"the 13th of May, 2014\"\n",
    "        r'\\bthe (?:0?[1-9]|[12][0-9]|3[01])(?:st|nd|rd|th)? of (?:January|February|March|April|May|June|July|August|September|October|November|December|Jan|Feb|Mar|Apr|May|Jun|Jul|Aug|Sep|Sept|Oct|Nov|Dec)(?:, (?:[1-9][0-9]{3}))?\\b',\n",
    "\n",
    "        # \"May 1st\"\n",
    "        r'\\b(?:January|February|March|April|May|June|July|August|September|October|November|December|Jan|Feb|Mar|Apr|May|Jun|Jul|Aug|Sep|Sept|Oct|Nov|Dec)(?: (?:0?[1-9]|[12][0-9]|3[01])(?:st|nd|rd|th))?\\b',\n",
    "\n",
    "        # weekdays with optional ordinal dates (Monday the 23rd)\n",
    "        r'\\b(?:Monday|Tuesday|Wednesday|Thursday|Friday|Saturday|Sunday),?\\s*(?:the\\s*(?:0?[1-9]|[12][0-9]|3[01])(?:st|nd|rd|th)?)\\b',\n",
    "\n",
    "        # weekdays with optional time (Monday, 2pm)\n",
    "        r'\\b(?:Monday|Tuesday|Wednesday|Thursday|Friday|Saturday|Sunday),?\\s*(?:[1-12](?:am|pm))\\b',\n",
    "\n",
    "        # weekdays with general time of day (Monday afternoon)\n",
    "        r'\\b(?:Monday|Tuesday|Wednesday|Thursday|Friday|Saturday|Sunday)\\s*(?:morning|afternoon|evening|night)\\b',\n",
    "\n",
    "        # Only the day of the week\n",
    "        r'\\b(?:Monday|Tuesday|Wednesday|Thursday|Friday|Saturday|Sunday)\\b',\n",
    "        \n",
    "        # 2. Holidays (US Federal Holidays)\n",
    "        r'\\b(New Year\\'s Day|Inauguration Day|Martin Luther King\\, Jr\\. Day|George Washington\\'s Birthday|Memorial Day|Juneteenth|Independence Day|Labor Day|Columbus Day|Veterans Day|Thanksgiving Day|Christmas Day)\\b'\n",
    "    ]\n",
    "\n",
    "    matches = []\n",
    "    for pattern in date_re:\n",
    "        matches.extend(re.findall(pattern, text, re.IGNORECASE))\n",
    "\n",
    "    return matches\n",
    "\n",
    "# def extract_longest_valid_dates(text):\n",
    "#     matches = extract_dates(text)\n",
    "    \n",
    "#     if matches:\n",
    "#         # Find the longest match length\n",
    "#         max_len = max(len(match) for match in matches)\n",
    "#         # Return all matches that have the same longest length\n",
    "#         return [match for match in matches if len(match) == max_len]\n",
    "#     return []\n",
    "\n",
    "# Read input file line by line\n",
    "with open(\"../Data/Input/input.txt\", \"r\", encoding=\"utf-8\") as input_file:\n",
    "    lines = input_file.readlines()\n",
    "\n",
    "# Extract dates from each line\n",
    "all_dates = []\n",
    "for line in lines:\n",
    "    dates = extract_dates(line)\n",
    "    all_dates.extend(dates)\n",
    "\n",
    "# Write output file line by line\n",
    "with open(\"../Data/Output/output.txt\", \"w\", encoding=\"utf-8\") as output_file:\n",
    "    for date in all_dates:\n",
    "        output_file.write(date + \"\\n\")\n",
    "\n",
    "print(\"Program ran. Results saved in output.txt.\")"
   ]
  }
 ],
 "metadata": {
  "kernelspec": {
   "display_name": "Python 3",
   "language": "python",
   "name": "python3"
  },
  "language_info": {
   "codemirror_mode": {
    "name": "ipython",
    "version": 3
   },
   "file_extension": ".py",
   "mimetype": "text/x-python",
   "name": "python",
   "nbconvert_exporter": "python",
   "pygments_lexer": "ipython3",
   "version": "3.11.1"
  },
  "orig_nbformat": 4
 },
 "nbformat": 4,
 "nbformat_minor": 2
}
